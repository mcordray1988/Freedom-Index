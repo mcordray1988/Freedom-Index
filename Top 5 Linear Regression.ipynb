{
 "cells": [
  {
   "cell_type": "code",
   "execution_count": 1,
   "metadata": {},
   "outputs": [],
   "source": [
    "%matplotlib inline\n",
    "import matplotlib.pyplot as plt\n",
    "import numpy as np\n",
    "import pandas as pd\n",
    "from sklearn.model_selection import train_test_split\n",
    "from sklearn.linear_model import LinearRegression"
   ]
  },
  {
   "cell_type": "code",
   "execution_count": 2,
   "metadata": {
    "scrolled": false
   },
   "outputs": [
    {
     "data": {
      "text/html": [
       "<div>\n",
       "<style scoped>\n",
       "    .dataframe tbody tr th:only-of-type {\n",
       "        vertical-align: middle;\n",
       "    }\n",
       "\n",
       "    .dataframe tbody tr th {\n",
       "        vertical-align: top;\n",
       "    }\n",
       "\n",
       "    .dataframe thead th {\n",
       "        text-align: right;\n",
       "    }\n",
       "</style>\n",
       "<table border=\"1\" class=\"dataframe\">\n",
       "  <thead>\n",
       "    <tr style=\"text-align: right;\">\n",
       "      <th></th>\n",
       "      <th>Country</th>\n",
       "      <th>Year</th>\n",
       "      <th>EFindex</th>\n",
       "    </tr>\n",
       "  </thead>\n",
       "  <tbody>\n",
       "    <tr>\n",
       "      <td>0</td>\n",
       "      <td>Ireland</td>\n",
       "      <td>1945</td>\n",
       "      <td>0.051</td>\n",
       "    </tr>\n",
       "    <tr>\n",
       "      <td>1</td>\n",
       "      <td>Ireland</td>\n",
       "      <td>1946</td>\n",
       "      <td>0.052</td>\n",
       "    </tr>\n",
       "    <tr>\n",
       "      <td>2</td>\n",
       "      <td>Ireland</td>\n",
       "      <td>1947</td>\n",
       "      <td>0.053</td>\n",
       "    </tr>\n",
       "    <tr>\n",
       "      <td>3</td>\n",
       "      <td>Ireland</td>\n",
       "      <td>1948</td>\n",
       "      <td>0.054</td>\n",
       "    </tr>\n",
       "    <tr>\n",
       "      <td>4</td>\n",
       "      <td>Ireland</td>\n",
       "      <td>1949</td>\n",
       "      <td>0.055</td>\n",
       "    </tr>\n",
       "    <tr>\n",
       "      <td>...</td>\n",
       "      <td>...</td>\n",
       "      <td>...</td>\n",
       "      <td>...</td>\n",
       "    </tr>\n",
       "    <tr>\n",
       "      <td>325</td>\n",
       "      <td>New Zealand</td>\n",
       "      <td>2009</td>\n",
       "      <td>0.455</td>\n",
       "    </tr>\n",
       "    <tr>\n",
       "      <td>326</td>\n",
       "      <td>New Zealand</td>\n",
       "      <td>2010</td>\n",
       "      <td>0.463</td>\n",
       "    </tr>\n",
       "    <tr>\n",
       "      <td>327</td>\n",
       "      <td>New Zealand</td>\n",
       "      <td>2011</td>\n",
       "      <td>0.470</td>\n",
       "    </tr>\n",
       "    <tr>\n",
       "      <td>328</td>\n",
       "      <td>New Zealand</td>\n",
       "      <td>2012</td>\n",
       "      <td>0.477</td>\n",
       "    </tr>\n",
       "    <tr>\n",
       "      <td>329</td>\n",
       "      <td>New Zealand</td>\n",
       "      <td>2013</td>\n",
       "      <td>0.485</td>\n",
       "    </tr>\n",
       "  </tbody>\n",
       "</table>\n",
       "<p>330 rows × 3 columns</p>\n",
       "</div>"
      ],
      "text/plain": [
       "         Country  Year  EFindex\n",
       "0        Ireland  1945    0.051\n",
       "1        Ireland  1946    0.052\n",
       "2        Ireland  1947    0.053\n",
       "3        Ireland  1948    0.054\n",
       "4        Ireland  1949    0.055\n",
       "..           ...   ...      ...\n",
       "325  New Zealand  2009    0.455\n",
       "326  New Zealand  2010    0.463\n",
       "327  New Zealand  2011    0.470\n",
       "328  New Zealand  2012    0.477\n",
       "329  New Zealand  2013    0.485\n",
       "\n",
       "[330 rows x 3 columns]"
      ]
     },
     "execution_count": 2,
     "metadata": {},
     "output_type": "execute_result"
    }
   ],
   "source": [
    "top_five_ethnicity = pd.read_csv('../final-project/data/top_5_HIEF_data.csv')\n",
    "top_five_ethnicity"
   ]
  },
  {
   "cell_type": "code",
   "execution_count": 3,
   "metadata": {},
   "outputs": [
    {
     "data": {
      "text/html": [
       "<div>\n",
       "<style scoped>\n",
       "    .dataframe tbody tr th:only-of-type {\n",
       "        vertical-align: middle;\n",
       "    }\n",
       "\n",
       "    .dataframe tbody tr th {\n",
       "        vertical-align: top;\n",
       "    }\n",
       "\n",
       "    .dataframe thead th {\n",
       "        text-align: right;\n",
       "    }\n",
       "</style>\n",
       "<table border=\"1\" class=\"dataframe\">\n",
       "  <thead>\n",
       "    <tr style=\"text-align: right;\">\n",
       "      <th></th>\n",
       "      <th>Country</th>\n",
       "      <th>Year</th>\n",
       "      <th>EFindex</th>\n",
       "    </tr>\n",
       "  </thead>\n",
       "  <tbody>\n",
       "    <tr>\n",
       "      <td>0</td>\n",
       "      <td>Ireland</td>\n",
       "      <td>1945</td>\n",
       "      <td>0.051</td>\n",
       "    </tr>\n",
       "    <tr>\n",
       "      <td>1</td>\n",
       "      <td>Ireland</td>\n",
       "      <td>1946</td>\n",
       "      <td>0.052</td>\n",
       "    </tr>\n",
       "    <tr>\n",
       "      <td>2</td>\n",
       "      <td>Ireland</td>\n",
       "      <td>1947</td>\n",
       "      <td>0.053</td>\n",
       "    </tr>\n",
       "    <tr>\n",
       "      <td>3</td>\n",
       "      <td>Ireland</td>\n",
       "      <td>1948</td>\n",
       "      <td>0.054</td>\n",
       "    </tr>\n",
       "    <tr>\n",
       "      <td>4</td>\n",
       "      <td>Ireland</td>\n",
       "      <td>1949</td>\n",
       "      <td>0.055</td>\n",
       "    </tr>\n",
       "    <tr>\n",
       "      <td>...</td>\n",
       "      <td>...</td>\n",
       "      <td>...</td>\n",
       "      <td>...</td>\n",
       "    </tr>\n",
       "    <tr>\n",
       "      <td>64</td>\n",
       "      <td>Ireland</td>\n",
       "      <td>2009</td>\n",
       "      <td>0.163</td>\n",
       "    </tr>\n",
       "    <tr>\n",
       "      <td>65</td>\n",
       "      <td>Ireland</td>\n",
       "      <td>2010</td>\n",
       "      <td>0.165</td>\n",
       "    </tr>\n",
       "    <tr>\n",
       "      <td>66</td>\n",
       "      <td>Ireland</td>\n",
       "      <td>2011</td>\n",
       "      <td>0.168</td>\n",
       "    </tr>\n",
       "    <tr>\n",
       "      <td>67</td>\n",
       "      <td>Ireland</td>\n",
       "      <td>2012</td>\n",
       "      <td>0.171</td>\n",
       "    </tr>\n",
       "    <tr>\n",
       "      <td>68</td>\n",
       "      <td>Ireland</td>\n",
       "      <td>2013</td>\n",
       "      <td>0.174</td>\n",
       "    </tr>\n",
       "  </tbody>\n",
       "</table>\n",
       "<p>69 rows × 3 columns</p>\n",
       "</div>"
      ],
      "text/plain": [
       "    Country  Year  EFindex\n",
       "0   Ireland  1945    0.051\n",
       "1   Ireland  1946    0.052\n",
       "2   Ireland  1947    0.053\n",
       "3   Ireland  1948    0.054\n",
       "4   Ireland  1949    0.055\n",
       "..      ...   ...      ...\n",
       "64  Ireland  2009    0.163\n",
       "65  Ireland  2010    0.165\n",
       "66  Ireland  2011    0.168\n",
       "67  Ireland  2012    0.171\n",
       "68  Ireland  2013    0.174\n",
       "\n",
       "[69 rows x 3 columns]"
      ]
     },
     "execution_count": 3,
     "metadata": {},
     "output_type": "execute_result"
    }
   ],
   "source": [
    "ireland = top_five_ethnicity[(top_five_ethnicity.Country == 'Ireland')]\n",
    "ireland"
   ]
  },
  {
   "cell_type": "code",
   "execution_count": 4,
   "metadata": {},
   "outputs": [],
   "source": [
    "X = ireland.Year.values.reshape(-1, 1)\n",
    "y = ireland.EFindex.values.reshape(-1, 1)"
   ]
  },
  {
   "cell_type": "code",
   "execution_count": 5,
   "metadata": {},
   "outputs": [
    {
     "name": "stdout",
     "output_type": "stream",
     "text": [
      "Min X Value: [[1945]]\n",
      "Max X Value: [[2013]]\n"
     ]
    }
   ],
   "source": [
    "model = LinearRegression()\n",
    "model.fit(X, y)\n",
    "x_min = np.array([[X.min()]])\n",
    "x_max = np.array([[X.max()]])\n",
    "print(f\"Min X Value: {x_min}\")\n",
    "print(f\"Max X Value: {x_max}\")"
   ]
  },
  {
   "cell_type": "code",
   "execution_count": 6,
   "metadata": {},
   "outputs": [],
   "source": [
    "y_min = model.predict(x_min)\n",
    "y_max = model.predict(x_max)"
   ]
  },
  {
   "cell_type": "code",
   "execution_count": 7,
   "metadata": {},
   "outputs": [
    {
     "data": {
      "text/plain": [
       "Text(0, 0.5, 'EF Index')"
      ]
     },
     "execution_count": 7,
     "metadata": {},
     "output_type": "execute_result"
    },
    {
     "data": {
      "image/png": "[encoded data removed]",
      "text/plain": [
       "<Figure size 1080x720 with 1 Axes>"
      ]
     },
     "metadata": {
      "needs_background": "light"
     },
     "output_type": "display_data"
    }
   ],
   "source": [
    "plt.figure(figsize=(15,10))\n",
    "plt.scatter(X, y, c='blue')\n",
    "plt.plot([x_min[0], x_max[0]], [y_min[0], y_max[0]], c='red')\n",
    "plt.title(\"Ireland\")\n",
    "plt.xlabel(\"Years\")\n",
    "plt.ylabel(\"EF Index\")"
   ]
  },
  {
   "cell_type": "code",
   "execution_count": 8,
   "metadata": {},
   "outputs": [
    {
     "data": {
      "text/html": [
       "<div>\n",
       "<style scoped>\n",
       "    .dataframe tbody tr th:only-of-type {\n",
       "        vertical-align: middle;\n",
       "    }\n",
       "\n",
       "    .dataframe tbody tr th {\n",
       "        vertical-align: top;\n",
       "    }\n",
       "\n",
       "    .dataframe thead th {\n",
       "        text-align: right;\n",
       "    }\n",
       "</style>\n",
       "<table border=\"1\" class=\"dataframe\">\n",
       "  <thead>\n",
       "    <tr style=\"text-align: right;\">\n",
       "      <th></th>\n",
       "      <th>Country</th>\n",
       "      <th>Year</th>\n",
       "      <th>EFindex</th>\n",
       "    </tr>\n",
       "  </thead>\n",
       "  <tbody>\n",
       "    <tr>\n",
       "      <td>192</td>\n",
       "      <td>Australia</td>\n",
       "      <td>1945</td>\n",
       "      <td>0.010</td>\n",
       "    </tr>\n",
       "    <tr>\n",
       "      <td>193</td>\n",
       "      <td>Australia</td>\n",
       "      <td>1946</td>\n",
       "      <td>0.010</td>\n",
       "    </tr>\n",
       "    <tr>\n",
       "      <td>194</td>\n",
       "      <td>Australia</td>\n",
       "      <td>1947</td>\n",
       "      <td>0.011</td>\n",
       "    </tr>\n",
       "    <tr>\n",
       "      <td>195</td>\n",
       "      <td>Australia</td>\n",
       "      <td>1948</td>\n",
       "      <td>0.011</td>\n",
       "    </tr>\n",
       "    <tr>\n",
       "      <td>196</td>\n",
       "      <td>Australia</td>\n",
       "      <td>1949</td>\n",
       "      <td>0.012</td>\n",
       "    </tr>\n",
       "  </tbody>\n",
       "</table>\n",
       "</div>"
      ],
      "text/plain": [
       "       Country  Year  EFindex\n",
       "192  Australia  1945    0.010\n",
       "193  Australia  1946    0.010\n",
       "194  Australia  1947    0.011\n",
       "195  Australia  1948    0.011\n",
       "196  Australia  1949    0.012"
      ]
     },
     "execution_count": 8,
     "metadata": {},
     "output_type": "execute_result"
    }
   ],
   "source": [
    "australia = top_five_ethnicity[(top_five_ethnicity.Country == 'Australia')]\n",
    "australia.head()"
   ]
  },
  {
   "cell_type": "code",
   "execution_count": 9,
   "metadata": {},
   "outputs": [
    {
     "name": "stdout",
     "output_type": "stream",
     "text": [
      "Min X Value: [[1945]]\n",
      "Max X Value: [[2013]]\n"
     ]
    }
   ],
   "source": [
    "X = australia.Year.values.reshape(-1, 1)\n",
    "y = australia.EFindex.values.reshape(-1, 1)\n",
    "\n",
    "model = LinearRegression()\n",
    "model.fit(X, y)\n",
    "x_min = np.array([[X.min()]])\n",
    "x_max = np.array([[X.max()]])\n",
    "print(f\"Min X Value: {x_min}\")\n",
    "print(f\"Max X Value: {x_max}\")\n",
    "\n",
    "y_min = model.predict(x_min)\n",
    "y_max = model.predict(x_max)"
   ]
  },
  {
   "cell_type": "code",
   "execution_count": 10,
   "metadata": {},
   "outputs": [
    {
     "data": {
      "text/plain": [
       "Text(0, 0.5, 'EF Index')"
      ]
     },
     "execution_count": 10,
     "metadata": {},
     "output_type": "execute_result"
    },
    {
     "data": {
      "image/png": "[encoded data removed]",
      "text/plain": [
       "<Figure size 1080x720 with 1 Axes>"
      ]
     },
     "metadata": {
      "needs_background": "light"
     },
     "output_type": "display_data"
    }
   ],
   "source": [
    "plt.figure(figsize=(15,10))\n",
    "plt.scatter(X, y, c='green')\n",
    "plt.plot([x_min[0], x_max[0]], [y_min[0], y_max[0]], c='red')\n",
    "plt.title(\"Australia\")\n",
    "plt.xlabel(\"Years\")\n",
    "plt.ylabel(\"EF Index\")"
   ]
  },
  {
   "cell_type": "code",
   "execution_count": 11,
   "metadata": {},
   "outputs": [
    {
     "data": {
      "text/html": [
       "<div>\n",
       "<style scoped>\n",
       "    .dataframe tbody tr th:only-of-type {\n",
       "        vertical-align: middle;\n",
       "    }\n",
       "\n",
       "    .dataframe tbody tr th {\n",
       "        vertical-align: top;\n",
       "    }\n",
       "\n",
       "    .dataframe thead th {\n",
       "        text-align: right;\n",
       "    }\n",
       "</style>\n",
       "<table border=\"1\" class=\"dataframe\">\n",
       "  <thead>\n",
       "    <tr style=\"text-align: right;\">\n",
       "      <th></th>\n",
       "      <th>Country</th>\n",
       "      <th>Year</th>\n",
       "      <th>EFindex</th>\n",
       "    </tr>\n",
       "  </thead>\n",
       "  <tbody>\n",
       "    <tr>\n",
       "      <td>138</td>\n",
       "      <td>Singapore</td>\n",
       "      <td>1960</td>\n",
       "      <td>0.385</td>\n",
       "    </tr>\n",
       "    <tr>\n",
       "      <td>139</td>\n",
       "      <td>Singapore</td>\n",
       "      <td>1961</td>\n",
       "      <td>0.386</td>\n",
       "    </tr>\n",
       "    <tr>\n",
       "      <td>140</td>\n",
       "      <td>Singapore</td>\n",
       "      <td>1962</td>\n",
       "      <td>0.386</td>\n",
       "    </tr>\n",
       "    <tr>\n",
       "      <td>141</td>\n",
       "      <td>Singapore</td>\n",
       "      <td>1963</td>\n",
       "      <td>0.386</td>\n",
       "    </tr>\n",
       "    <tr>\n",
       "      <td>142</td>\n",
       "      <td>Singapore</td>\n",
       "      <td>1964</td>\n",
       "      <td>0.386</td>\n",
       "    </tr>\n",
       "    <tr>\n",
       "      <td>143</td>\n",
       "      <td>Singapore</td>\n",
       "      <td>1965</td>\n",
       "      <td>0.386</td>\n",
       "    </tr>\n",
       "    <tr>\n",
       "      <td>144</td>\n",
       "      <td>Singapore</td>\n",
       "      <td>1966</td>\n",
       "      <td>0.387</td>\n",
       "    </tr>\n",
       "    <tr>\n",
       "      <td>145</td>\n",
       "      <td>Singapore</td>\n",
       "      <td>1967</td>\n",
       "      <td>0.387</td>\n",
       "    </tr>\n",
       "    <tr>\n",
       "      <td>146</td>\n",
       "      <td>Singapore</td>\n",
       "      <td>1968</td>\n",
       "      <td>0.387</td>\n",
       "    </tr>\n",
       "    <tr>\n",
       "      <td>147</td>\n",
       "      <td>Singapore</td>\n",
       "      <td>1969</td>\n",
       "      <td>0.387</td>\n",
       "    </tr>\n",
       "    <tr>\n",
       "      <td>148</td>\n",
       "      <td>Singapore</td>\n",
       "      <td>1970</td>\n",
       "      <td>0.387</td>\n",
       "    </tr>\n",
       "    <tr>\n",
       "      <td>149</td>\n",
       "      <td>Singapore</td>\n",
       "      <td>1971</td>\n",
       "      <td>0.387</td>\n",
       "    </tr>\n",
       "    <tr>\n",
       "      <td>150</td>\n",
       "      <td>Singapore</td>\n",
       "      <td>1972</td>\n",
       "      <td>0.388</td>\n",
       "    </tr>\n",
       "    <tr>\n",
       "      <td>151</td>\n",
       "      <td>Singapore</td>\n",
       "      <td>1973</td>\n",
       "      <td>0.388</td>\n",
       "    </tr>\n",
       "    <tr>\n",
       "      <td>152</td>\n",
       "      <td>Singapore</td>\n",
       "      <td>1974</td>\n",
       "      <td>0.388</td>\n",
       "    </tr>\n",
       "    <tr>\n",
       "      <td>153</td>\n",
       "      <td>Singapore</td>\n",
       "      <td>1975</td>\n",
       "      <td>0.388</td>\n",
       "    </tr>\n",
       "    <tr>\n",
       "      <td>154</td>\n",
       "      <td>Singapore</td>\n",
       "      <td>1976</td>\n",
       "      <td>0.388</td>\n",
       "    </tr>\n",
       "    <tr>\n",
       "      <td>155</td>\n",
       "      <td>Singapore</td>\n",
       "      <td>1977</td>\n",
       "      <td>0.389</td>\n",
       "    </tr>\n",
       "    <tr>\n",
       "      <td>156</td>\n",
       "      <td>Singapore</td>\n",
       "      <td>1978</td>\n",
       "      <td>0.389</td>\n",
       "    </tr>\n",
       "    <tr>\n",
       "      <td>157</td>\n",
       "      <td>Singapore</td>\n",
       "      <td>1979</td>\n",
       "      <td>0.389</td>\n",
       "    </tr>\n",
       "    <tr>\n",
       "      <td>158</td>\n",
       "      <td>Singapore</td>\n",
       "      <td>1980</td>\n",
       "      <td>0.389</td>\n",
       "    </tr>\n",
       "    <tr>\n",
       "      <td>159</td>\n",
       "      <td>Singapore</td>\n",
       "      <td>1981</td>\n",
       "      <td>0.389</td>\n",
       "    </tr>\n",
       "    <tr>\n",
       "      <td>160</td>\n",
       "      <td>Singapore</td>\n",
       "      <td>1982</td>\n",
       "      <td>0.389</td>\n",
       "    </tr>\n",
       "    <tr>\n",
       "      <td>161</td>\n",
       "      <td>Singapore</td>\n",
       "      <td>1983</td>\n",
       "      <td>0.390</td>\n",
       "    </tr>\n",
       "    <tr>\n",
       "      <td>162</td>\n",
       "      <td>Singapore</td>\n",
       "      <td>1984</td>\n",
       "      <td>0.390</td>\n",
       "    </tr>\n",
       "    <tr>\n",
       "      <td>163</td>\n",
       "      <td>Singapore</td>\n",
       "      <td>1985</td>\n",
       "      <td>0.390</td>\n",
       "    </tr>\n",
       "    <tr>\n",
       "      <td>164</td>\n",
       "      <td>Singapore</td>\n",
       "      <td>1986</td>\n",
       "      <td>0.390</td>\n",
       "    </tr>\n",
       "    <tr>\n",
       "      <td>165</td>\n",
       "      <td>Singapore</td>\n",
       "      <td>1987</td>\n",
       "      <td>0.390</td>\n",
       "    </tr>\n",
       "    <tr>\n",
       "      <td>166</td>\n",
       "      <td>Singapore</td>\n",
       "      <td>1988</td>\n",
       "      <td>0.391</td>\n",
       "    </tr>\n",
       "    <tr>\n",
       "      <td>167</td>\n",
       "      <td>Singapore</td>\n",
       "      <td>1989</td>\n",
       "      <td>0.391</td>\n",
       "    </tr>\n",
       "    <tr>\n",
       "      <td>168</td>\n",
       "      <td>Singapore</td>\n",
       "      <td>1990</td>\n",
       "      <td>0.391</td>\n",
       "    </tr>\n",
       "    <tr>\n",
       "      <td>169</td>\n",
       "      <td>Singapore</td>\n",
       "      <td>1991</td>\n",
       "      <td>0.391</td>\n",
       "    </tr>\n",
       "    <tr>\n",
       "      <td>170</td>\n",
       "      <td>Singapore</td>\n",
       "      <td>1992</td>\n",
       "      <td>0.391</td>\n",
       "    </tr>\n",
       "    <tr>\n",
       "      <td>171</td>\n",
       "      <td>Singapore</td>\n",
       "      <td>1993</td>\n",
       "      <td>0.391</td>\n",
       "    </tr>\n",
       "    <tr>\n",
       "      <td>172</td>\n",
       "      <td>Singapore</td>\n",
       "      <td>1994</td>\n",
       "      <td>0.392</td>\n",
       "    </tr>\n",
       "    <tr>\n",
       "      <td>173</td>\n",
       "      <td>Singapore</td>\n",
       "      <td>1995</td>\n",
       "      <td>0.392</td>\n",
       "    </tr>\n",
       "    <tr>\n",
       "      <td>174</td>\n",
       "      <td>Singapore</td>\n",
       "      <td>1996</td>\n",
       "      <td>0.392</td>\n",
       "    </tr>\n",
       "    <tr>\n",
       "      <td>175</td>\n",
       "      <td>Singapore</td>\n",
       "      <td>1997</td>\n",
       "      <td>0.392</td>\n",
       "    </tr>\n",
       "    <tr>\n",
       "      <td>176</td>\n",
       "      <td>Singapore</td>\n",
       "      <td>1998</td>\n",
       "      <td>0.392</td>\n",
       "    </tr>\n",
       "    <tr>\n",
       "      <td>177</td>\n",
       "      <td>Singapore</td>\n",
       "      <td>1999</td>\n",
       "      <td>0.393</td>\n",
       "    </tr>\n",
       "    <tr>\n",
       "      <td>178</td>\n",
       "      <td>Singapore</td>\n",
       "      <td>2000</td>\n",
       "      <td>0.393</td>\n",
       "    </tr>\n",
       "    <tr>\n",
       "      <td>179</td>\n",
       "      <td>Singapore</td>\n",
       "      <td>2001</td>\n",
       "      <td>0.393</td>\n",
       "    </tr>\n",
       "    <tr>\n",
       "      <td>180</td>\n",
       "      <td>Singapore</td>\n",
       "      <td>2002</td>\n",
       "      <td>0.393</td>\n",
       "    </tr>\n",
       "    <tr>\n",
       "      <td>181</td>\n",
       "      <td>Singapore</td>\n",
       "      <td>2003</td>\n",
       "      <td>0.393</td>\n",
       "    </tr>\n",
       "    <tr>\n",
       "      <td>182</td>\n",
       "      <td>Singapore</td>\n",
       "      <td>2004</td>\n",
       "      <td>0.393</td>\n",
       "    </tr>\n",
       "    <tr>\n",
       "      <td>183</td>\n",
       "      <td>Singapore</td>\n",
       "      <td>2005</td>\n",
       "      <td>0.394</td>\n",
       "    </tr>\n",
       "    <tr>\n",
       "      <td>184</td>\n",
       "      <td>Singapore</td>\n",
       "      <td>2006</td>\n",
       "      <td>0.394</td>\n",
       "    </tr>\n",
       "    <tr>\n",
       "      <td>185</td>\n",
       "      <td>Singapore</td>\n",
       "      <td>2007</td>\n",
       "      <td>0.394</td>\n",
       "    </tr>\n",
       "    <tr>\n",
       "      <td>186</td>\n",
       "      <td>Singapore</td>\n",
       "      <td>2008</td>\n",
       "      <td>0.394</td>\n",
       "    </tr>\n",
       "    <tr>\n",
       "      <td>187</td>\n",
       "      <td>Singapore</td>\n",
       "      <td>2009</td>\n",
       "      <td>0.394</td>\n",
       "    </tr>\n",
       "    <tr>\n",
       "      <td>188</td>\n",
       "      <td>Singapore</td>\n",
       "      <td>2010</td>\n",
       "      <td>0.395</td>\n",
       "    </tr>\n",
       "    <tr>\n",
       "      <td>189</td>\n",
       "      <td>Singapore</td>\n",
       "      <td>2011</td>\n",
       "      <td>0.395</td>\n",
       "    </tr>\n",
       "    <tr>\n",
       "      <td>190</td>\n",
       "      <td>Singapore</td>\n",
       "      <td>2012</td>\n",
       "      <td>0.395</td>\n",
       "    </tr>\n",
       "    <tr>\n",
       "      <td>191</td>\n",
       "      <td>Singapore</td>\n",
       "      <td>2013</td>\n",
       "      <td>0.395</td>\n",
       "    </tr>\n",
       "  </tbody>\n",
       "</table>\n",
       "</div>"
      ],
      "text/plain": [
       "       Country  Year  EFindex\n",
       "138  Singapore  1960    0.385\n",
       "139  Singapore  1961    0.386\n",
       "140  Singapore  1962    0.386\n",
       "141  Singapore  1963    0.386\n",
       "142  Singapore  1964    0.386\n",
       "143  Singapore  1965    0.386\n",
       "144  Singapore  1966    0.387\n",
       "145  Singapore  1967    0.387\n",
       "146  Singapore  1968    0.387\n",
       "147  Singapore  1969    0.387\n",
       "148  Singapore  1970    0.387\n",
       "149  Singapore  1971    0.387\n",
       "150  Singapore  1972    0.388\n",
       "151  Singapore  1973    0.388\n",
       "152  Singapore  1974    0.388\n",
       "153  Singapore  1975    0.388\n",
       "154  Singapore  1976    0.388\n",
       "155  Singapore  1977    0.389\n",
       "156  Singapore  1978    0.389\n",
       "157  Singapore  1979    0.389\n",
       "158  Singapore  1980    0.389\n",
       "159  Singapore  1981    0.389\n",
       "160  Singapore  1982    0.389\n",
       "161  Singapore  1983    0.390\n",
       "162  Singapore  1984    0.390\n",
       "163  Singapore  1985    0.390\n",
       "164  Singapore  1986    0.390\n",
       "165  Singapore  1987    0.390\n",
       "166  Singapore  1988    0.391\n",
       "167  Singapore  1989    0.391\n",
       "168  Singapore  1990    0.391\n",
       "169  Singapore  1991    0.391\n",
       "170  Singapore  1992    0.391\n",
       "171  Singapore  1993    0.391\n",
       "172  Singapore  1994    0.392\n",
       "173  Singapore  1995    0.392\n",
       "174  Singapore  1996    0.392\n",
       "175  Singapore  1997    0.392\n",
       "176  Singapore  1998    0.392\n",
       "177  Singapore  1999    0.393\n",
       "178  Singapore  2000    0.393\n",
       "179  Singapore  2001    0.393\n",
       "180  Singapore  2002    0.393\n",
       "181  Singapore  2003    0.393\n",
       "182  Singapore  2004    0.393\n",
       "183  Singapore  2005    0.394\n",
       "184  Singapore  2006    0.394\n",
       "185  Singapore  2007    0.394\n",
       "186  Singapore  2008    0.394\n",
       "187  Singapore  2009    0.394\n",
       "188  Singapore  2010    0.395\n",
       "189  Singapore  2011    0.395\n",
       "190  Singapore  2012    0.395\n",
       "191  Singapore  2013    0.395"
      ]
     },
     "execution_count": 11,
     "metadata": {},
     "output_type": "execute_result"
    }
   ],
   "source": [
    "singapore = top_five_ethnicity[(top_five_ethnicity.Country == 'Singapore')]\n",
    "singapore"
   ]
  },
  {
   "cell_type": "code",
   "execution_count": 12,
   "metadata": {},
   "outputs": [
    {
     "name": "stdout",
     "output_type": "stream",
     "text": [
      "Min X Value: [[1960]]\n",
      "Max X Value: [[2013]]\n"
     ]
    }
   ],
   "source": [
    "X = singapore.Year.values.reshape(-1, 1)\n",
    "y = singapore.EFindex.values.reshape(-1, 1)\n",
    "\n",
    "model = LinearRegression()\n",
    "model.fit(X, y)\n",
    "x_min = np.array([[X.min()]])\n",
    "x_max = np.array([[X.max()]])\n",
    "print(f\"Min X Value: {x_min}\")\n",
    "print(f\"Max X Value: {x_max}\")\n",
    "\n",
    "y_min = model.predict(x_min)\n",
    "y_max = model.predict(x_max)"
   ]
  },
  {
   "cell_type": "code",
   "execution_count": 13,
   "metadata": {},
   "outputs": [
    {
     "data": {
      "text/plain": [
       "Text(0, 0.5, 'EF Index')"
      ]
     },
     "execution_count": 13,
     "metadata": {},
     "output_type": "execute_result"
    },
    {
     "data": {
      "image/png": "[encoded data removed]",
      "text/plain": [
       "<Figure size 1080x720 with 1 Axes>"
      ]
     },
     "metadata": {
      "needs_background": "light"
     },
     "output_type": "display_data"
    }
   ],
   "source": [
    "plt.figure(figsize=(15,10))\n",
    "plt.scatter(X, y, c='black')\n",
    "plt.plot([x_min[0], x_max[0]], [y_min[0], y_max[0]], c='red')\n",
    "plt.title(\"Singapore\")\n",
    "plt.xlabel(\"Years\")\n",
    "plt.ylabel(\"EF Index\")"
   ]
  },
  {
   "cell_type": "code",
   "execution_count": 14,
   "metadata": {},
   "outputs": [
    {
     "data": {
      "text/html": [
       "<div>\n",
       "<style scoped>\n",
       "    .dataframe tbody tr th:only-of-type {\n",
       "        vertical-align: middle;\n",
       "    }\n",
       "\n",
       "    .dataframe tbody tr th {\n",
       "        vertical-align: top;\n",
       "    }\n",
       "\n",
       "    .dataframe thead th {\n",
       "        text-align: right;\n",
       "    }\n",
       "</style>\n",
       "<table border=\"1\" class=\"dataframe\">\n",
       "  <thead>\n",
       "    <tr style=\"text-align: right;\">\n",
       "      <th></th>\n",
       "      <th>Country</th>\n",
       "      <th>Year</th>\n",
       "      <th>EFindex</th>\n",
       "    </tr>\n",
       "  </thead>\n",
       "  <tbody>\n",
       "    <tr>\n",
       "      <td>261</td>\n",
       "      <td>New Zealand</td>\n",
       "      <td>1945</td>\n",
       "      <td>0.156</td>\n",
       "    </tr>\n",
       "    <tr>\n",
       "      <td>262</td>\n",
       "      <td>New Zealand</td>\n",
       "      <td>1946</td>\n",
       "      <td>0.158</td>\n",
       "    </tr>\n",
       "    <tr>\n",
       "      <td>263</td>\n",
       "      <td>New Zealand</td>\n",
       "      <td>1947</td>\n",
       "      <td>0.160</td>\n",
       "    </tr>\n",
       "    <tr>\n",
       "      <td>264</td>\n",
       "      <td>New Zealand</td>\n",
       "      <td>1948</td>\n",
       "      <td>0.161</td>\n",
       "    </tr>\n",
       "    <tr>\n",
       "      <td>265</td>\n",
       "      <td>New Zealand</td>\n",
       "      <td>1949</td>\n",
       "      <td>0.163</td>\n",
       "    </tr>\n",
       "  </tbody>\n",
       "</table>\n",
       "</div>"
      ],
      "text/plain": [
       "         Country  Year  EFindex\n",
       "261  New Zealand  1945    0.156\n",
       "262  New Zealand  1946    0.158\n",
       "263  New Zealand  1947    0.160\n",
       "264  New Zealand  1948    0.161\n",
       "265  New Zealand  1949    0.163"
      ]
     },
     "execution_count": 14,
     "metadata": {},
     "output_type": "execute_result"
    }
   ],
   "source": [
    "new_zealand = top_five_ethnicity[(top_five_ethnicity.Country == 'New Zealand')]\n",
    "new_zealand.head()"
   ]
  },
  {
   "cell_type": "code",
   "execution_count": 15,
   "metadata": {},
   "outputs": [
    {
     "name": "stdout",
     "output_type": "stream",
     "text": [
      "Min X Value: [[1945]]\n",
      "Max X Value: [[2013]]\n"
     ]
    }
   ],
   "source": [
    "X = new_zealand.Year.values.reshape(-1, 1)\n",
    "y = new_zealand.EFindex.values.reshape(-1, 1)\n",
    "\n",
    "model = LinearRegression()\n",
    "model.fit(X, y)\n",
    "x_min = np.array([[X.min()]])\n",
    "x_max = np.array([[X.max()]])\n",
    "print(f\"Min X Value: {x_min}\")\n",
    "print(f\"Max X Value: {x_max}\")\n",
    "\n",
    "y_min = model.predict(x_min)\n",
    "y_max = model.predict(x_max)"
   ]
  },
  {
   "cell_type": "code",
   "execution_count": 16,
   "metadata": {},
   "outputs": [
    {
     "data": {
      "text/plain": [
       "Text(0, 0.5, 'EF Index')"
      ]
     },
     "execution_count": 16,
     "metadata": {},
     "output_type": "execute_result"
    },
    {
     "data": {
      "image/png": "[encoded data removed]",
      "text/plain": [
       "<Figure size 1080x720 with 1 Axes>"
      ]
     },
     "metadata": {
      "needs_background": "light"
     },
     "output_type": "display_data"
    }
   ],
   "source": [
    "plt.figure(figsize=(15,10))\n",
    "plt.scatter(X, y, c='indigo')\n",
    "plt.plot([x_min[0], x_max[0]], [y_min[0], y_max[0]], c='red')\n",
    "plt.title(\"New Zealand\")\n",
    "plt.xlabel(\"Years\")\n",
    "plt.ylabel(\"EF Index\")"
   ]
  },
  {
   "cell_type": "code",
   "execution_count": 17,
   "metadata": {},
   "outputs": [
    {
     "data": {
      "text/html": [
       "<div>\n",
       "<style scoped>\n",
       "    .dataframe tbody tr th:only-of-type {\n",
       "        vertical-align: middle;\n",
       "    }\n",
       "\n",
       "    .dataframe tbody tr th {\n",
       "        vertical-align: top;\n",
       "    }\n",
       "\n",
       "    .dataframe thead th {\n",
       "        text-align: right;\n",
       "    }\n",
       "</style>\n",
       "<table border=\"1\" class=\"dataframe\">\n",
       "  <thead>\n",
       "    <tr style=\"text-align: right;\">\n",
       "      <th></th>\n",
       "      <th>Country</th>\n",
       "      <th>Year</th>\n",
       "      <th>EFindex</th>\n",
       "    </tr>\n",
       "  </thead>\n",
       "  <tbody>\n",
       "    <tr>\n",
       "      <td>69</td>\n",
       "      <td>Switzerland</td>\n",
       "      <td>1945</td>\n",
       "      <td>0.196</td>\n",
       "    </tr>\n",
       "    <tr>\n",
       "      <td>70</td>\n",
       "      <td>Switzerland</td>\n",
       "      <td>1946</td>\n",
       "      <td>0.198</td>\n",
       "    </tr>\n",
       "    <tr>\n",
       "      <td>71</td>\n",
       "      <td>Switzerland</td>\n",
       "      <td>1947</td>\n",
       "      <td>0.200</td>\n",
       "    </tr>\n",
       "    <tr>\n",
       "      <td>72</td>\n",
       "      <td>Switzerland</td>\n",
       "      <td>1948</td>\n",
       "      <td>0.203</td>\n",
       "    </tr>\n",
       "    <tr>\n",
       "      <td>73</td>\n",
       "      <td>Switzerland</td>\n",
       "      <td>1949</td>\n",
       "      <td>0.205</td>\n",
       "    </tr>\n",
       "  </tbody>\n",
       "</table>\n",
       "</div>"
      ],
      "text/plain": [
       "        Country  Year  EFindex\n",
       "69  Switzerland  1945    0.196\n",
       "70  Switzerland  1946    0.198\n",
       "71  Switzerland  1947    0.200\n",
       "72  Switzerland  1948    0.203\n",
       "73  Switzerland  1949    0.205"
      ]
     },
     "execution_count": 17,
     "metadata": {},
     "output_type": "execute_result"
    }
   ],
   "source": [
    "switzerland = top_five_ethnicity[(top_five_ethnicity.Country == 'Switzerland')]\n",
    "switzerland.head()"
   ]
  },
  {
   "cell_type": "code",
   "execution_count": 18,
   "metadata": {},
   "outputs": [
    {
     "name": "stdout",
     "output_type": "stream",
     "text": [
      "Min X Value: [[1945]]\n",
      "Max X Value: [[2013]]\n"
     ]
    }
   ],
   "source": [
    "X = switzerland.Year.values.reshape(-1, 1)\n",
    "y = switzerland.EFindex.values.reshape(-1, 1)\n",
    "\n",
    "model = LinearRegression()\n",
    "model.fit(X, y)\n",
    "x_min = np.array([[X.min()]])\n",
    "x_max = np.array([[X.max()]])\n",
    "print(f\"Min X Value: {x_min}\")\n",
    "print(f\"Max X Value: {x_max}\")\n",
    "\n",
    "y_min = model.predict(x_min)\n",
    "y_max = model.predict(x_max)"
   ]
  },
  {
   "cell_type": "code",
   "execution_count": 19,
   "metadata": {},
   "outputs": [
    {
     "data": {
      "text/plain": [
       "Text(0, 0.5, 'EF Index')"
      ]
     },
     "execution_count": 19,
     "metadata": {},
     "output_type": "execute_result"
    },
    {
     "data": {
      "image/png": "[encoded data removed]",
      "text/plain": [
       "<Figure size 1080x720 with 1 Axes>"
      ]
     },
     "metadata": {
      "needs_background": "light"
     },
     "output_type": "display_data"
    }
   ],
   "source": [
    "plt.figure(figsize=(15,10))\n",
    "plt.scatter(X, y, c='teal')\n",
    "plt.plot([x_min[0], x_max[0]], [y_min[0], y_max[0]], c='red')\n",
    "plt.title(\"Switzerland\")\n",
    "plt.xlabel(\"Years\")\n",
    "plt.ylabel(\"EF Index\")"
   ]
  },
  {
   "cell_type": "code",
   "execution_count": 21,
   "metadata": {},
   "outputs": [
    {
     "data": {
      "image/png": "[encoded data removed]",
      "text/plain": [
       "<Figure size 1080x720 with 1 Axes>"
      ]
     },
     "metadata": {
      "needs_background": "light"
     },
     "output_type": "display_data"
    }
   ],
   "source": [
    "data = (ireland, australia, singapore, new_zealand, switzerland)\n",
    "colors = (\"blue\", \"green\", \"black\", \"teal\", \"purple\")\n",
    "groups = (\"Ireland\", \"Australia\", \"Singapore\", \"New Zealand\", \"Switzerland\")\n",
    "\n",
    "fig = plt.figure(figsize=(15,10))\n",
    "ax = fig.add_subplot(1,1,1)\n",
    "\n",
    "for data, color, group in zip(data, colors, groups):\n",
    "  \n",
    "    x = top_five_ethnicity.Year.values.reshape(-1, 1)\n",
    "    y = top_five_ethnicity.EFindex.values.reshape(-1, 1)\n",
    "    \n",
    "    ax.scatter(x, y, alpha=0.8, c=color, edgecolor='none', s=30, label=group)\n",
    "  \n",
    "plt.title('Group Plot')\n",
    "plt.legend(loc=2)\n",
    "plt.show()"
   ]
  }
 ],
 "metadata": {
  "kernelspec": {
   "display_name": "Python 3",
   "language": "python",
   "name": "python3"
  },
  "language_info": {
   "codemirror_mode": {
    "name": "ipython",
    "version": 3
   },
   "file_extension": ".py",
   "mimetype": "text/x-python",
   "name": "python",
   "nbconvert_exporter": "python",
   "pygments_lexer": "ipython3",
   "version": "3.6.9"
  }
 },
 "nbformat": 4,
 "nbformat_minor": 2
}
